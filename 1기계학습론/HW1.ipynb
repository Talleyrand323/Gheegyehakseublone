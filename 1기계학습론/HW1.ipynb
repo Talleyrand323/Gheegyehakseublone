{
 "cells": [
  {
   "cell_type": "markdown",
   "id": "3150a3ff",
   "metadata": {},
   "source": [
    "## 1. Benchmark Dataset: \n",
    "타이타닉 호에서 탑승했던 사람들의 정보를 바탕으로 생존 여부를 예측\n",
    "하는 문제입니다. 과제에서 제시한 머신러닝 모델들을 이용하여 각 모델의 성능을 평가해야\n",
    "합니다. 데이터는 다음 주소에서 얻을 수 있습니다: https://www.kaggle.com/c/titanic\n",
    "이번 과제에서는 모델 학습 및 테스트 모두 train.csv파일을 이용합니다.\n",
    "과제를 수행하실 때 다음의 feature들은 모델 학습에 이용하지 않도록 주의해주세요.\n",
    "제외할 feature: PassengerId, Name, Ticket, Cabin"
   ]
  },
  {
   "cell_type": "markdown",
   "id": "d6458c39",
   "metadata": {},
   "source": [
    "## 2. Preprocessing\n",
    "    1) train data에 결측치(NULL)가 있는 feature들이 있습니다. 이 값들을 어떻게 처리할 것인지 아이디어를 제시하고 실제로 구현하세요. \n",
    "    2) One-Hot encoding을 수행할 필요가 있는 feature들이 무엇이며 그 이유는 무엇인지 서술하세요. 또한 실제로 어떻게 구현했는지 보고서에 나타내세요.\n",
    "    3) train.csv의 sample을 7대 3으로 학습 데이터와 테스트 데이터로 사용하세요.\n",
    "    4) 그 외 진행한 전처리 과정이 있다면 서술하세요"
   ]
  },
  {
   "cell_type": "markdown",
   "id": "a5a2ec31",
   "metadata": {},
   "source": [
    "https://dlearner.tistory.com/22"
   ]
  },
  {
   "cell_type": "markdown",
   "id": "d84f37ab",
   "metadata": {},
   "source": [
    "#### 가장 먼저, 2-3) train.csv 파일 안의 891개 sample 중에서 89 * 3 = 267개를 떼어내어 tran.csv를 만들었음"
   ]
  },
  {
   "cell_type": "code",
   "execution_count": 309,
   "id": "b65e570a",
   "metadata": {},
   "outputs": [],
   "source": [
    "import pandas as pd\n",
    "import numpy as np\n",
    "import random as rnd"
   ]
  },
  {
   "cell_type": "code",
   "execution_count": 5,
   "id": "90352e32",
   "metadata": {},
   "outputs": [],
   "source": [
    "import seaborn as sns\n",
    "import matplotlib.pyplot as plt\n",
    "%matplotlib inline\n",
    "import warnings\n",
    "warnings.filterwarnings(action='ignore')"
   ]
  },
  {
   "cell_type": "code",
   "execution_count": 291,
   "id": "d8809e7f",
   "metadata": {},
   "outputs": [],
   "source": [
    "# 모델\n",
    "from sklearn.neighbors import KNeighborsClassifier\n",
    "from sklearn.linear_model import LogisticRegression\n",
    "from sklearn.tree import DecisionTreeClassifier\n",
    "\n",
    "from sklearn.ensemble import BaggingClassifier"
   ]
  },
  {
   "cell_type": "code",
   "execution_count": 586,
   "id": "44aa500a",
   "metadata": {},
   "outputs": [],
   "source": [
    "train_df = pd.read_csv(\"train.csv\")\n",
    "test_df = pd.read_csv('test.csv')\n",
    "combine=[train_df, test_df]"
   ]
  },
  {
   "cell_type": "markdown",
   "id": "fd240773",
   "metadata": {},
   "source": [
    "#### 1 제외 할 feature: PassengerId, Name, Ticket, Cabin"
   ]
  },
  {
   "cell_type": "code",
   "execution_count": 587,
   "id": "01ccab5a",
   "metadata": {},
   "outputs": [],
   "source": [
    "train_df = train_df.drop(['PassengerId', 'Name', 'Ticket', 'Cabin'], axis=1)\n",
    "test_df = test_df.drop(['PassengerId', 'Name', 'Ticket', 'Cabin'], axis=1)\n",
    "combine=[train_df, test_df]"
   ]
  },
  {
   "cell_type": "code",
   "execution_count": 588,
   "id": "f17b745d",
   "metadata": {},
   "outputs": [
    {
     "name": "stdout",
     "output_type": "stream",
     "text": [
      "['Survived' 'Pclass' 'Sex' 'Age' 'SibSp' 'Parch' 'Fare' 'Embarked']\n"
     ]
    }
   ],
   "source": [
    "print(train_df.columns.values)"
   ]
  },
  {
   "cell_type": "markdown",
   "id": "586d75c5",
   "metadata": {},
   "source": [
    "#### 2-1) train data에 결측치(NULL)가 있는 feature들이 있습니다. 이 값들을 어떻게 처리할 것인지 아이디어를 제시하고 실제로 구현하세요.\n",
    "<br>  -> 'Age' column에선 다수의, 'Embarked' column에선 극소수의 샘플에 대해 NULL값이 있음. \n",
    "<br>  a) 'Embarked'는 (눈으로 세어보니 2개) 워낙 갯수도 적고, 생존 여부에 영향을 주는 attribute이면서도 평균이나 중간값 등으로 처리하기 애매하므로 그냥 해당 sample은 drop. \n",
    "<br>  b) 'Age'에 column에서 나오는 NULL 갯수는 무시할 수 없을 만큼 많은데, 그렇다고 싹다 평균이나 중간값으로 대체하는 것은 실제 데이터(기록되진 않았지만 그 사람의 실제 나이)와는 괴리가 너무 커질 것으로 예상. 따라서 NULL값은 최빈값처럼 취급하고, 'Parch가 0인데 Pclass가 1이면 나이를 중장년층으로 예상' 같은 규칙을 추가해 처리하고자 함\n"
   ]
  },
  {
   "cell_type": "markdown",
   "id": "0f7d701f",
   "metadata": {},
   "source": [
    "#### a)부터 해결 후 b)의 경우는 2-4)에서 다시 처리 예정"
   ]
  },
  {
   "cell_type": "code",
   "execution_count": 589,
   "id": "d9a9e995",
   "metadata": {},
   "outputs": [],
   "source": [
    "#train_df = train_df.dropna(subset=['Embarked'])\n",
    "#test_df = test_df.dropna(subset=['Embarked'])\n",
    "combine=[train_df, test_df]"
   ]
  },
  {
   "cell_type": "markdown",
   "id": "7ded9807",
   "metadata": {},
   "source": [
    "#### 2-2) One-Hot encoding을 수행할 필요가 있는 feature들이 무엇이며 그 이유는 무엇인지 서술하세요. 또한 실제로 어떻게 구현했는지 보고서에 나타내세요.\n",
    "-> scikit-learn을 사용할 때 문자열로 나타나는 feature들은 Label이든 One-Hot이든 숫자로 encoding해 줘야 함. 'Sex', 'Embarked' 을 대상으로 One-Hot encoding이 필요해 보여 이를 수행"
   ]
  },
  {
   "cell_type": "code",
   "execution_count": 590,
   "id": "c48f7b38",
   "metadata": {},
   "outputs": [],
   "source": [
    "from sklearn.preprocessing import OneHotEncoder, LabelEncoder\n",
    "OHE = OneHotEncoder(sparse=False)\n",
    "LE = LabelEncoder()"
   ]
  },
  {
   "cell_type": "code",
   "execution_count": 591,
   "id": "87dd0bb4",
   "metadata": {},
   "outputs": [
    {
     "name": "stdout",
     "output_type": "stream",
     "text": [
      "    Survived  Pclass     Sex   Age  SibSp  Parch     Fare Embarked\n",
      "0          0       3    male  22.0      1      0   7.2500        S\n",
      "1          1       1  female  38.0      1      0  71.2833        C\n",
      "2          1       3  female  26.0      0      0   7.9250        S\n",
      "3          1       1  female  35.0      1      0  53.1000        S\n",
      "4          0       3    male  35.0      0      0   8.0500        S\n",
      "..       ...     ...     ...   ...    ...    ...      ...      ...\n",
      "60         0       3    male  22.0      0      0   7.2292        C\n",
      "61         1       1  female  38.0      0      0  80.0000      NaN\n",
      "62         0       1    male  45.0      1      0  83.4750        S\n",
      "63         0       3    male   4.0      3      2  27.9000        S\n",
      "64         0       1    male   NaN      0      0  27.7208        C\n",
      "\n",
      "[65 rows x 8 columns]\n",
      "     Survived  Pclass     Sex   Age  SibSp  Parch     Fare Embarked\n",
      "0           0       3    male  22.0      1      0   7.2500        S\n",
      "1           1       1  female  38.0      1      0  71.2833        C\n",
      "2           1       3  female  26.0      0      0   7.9250        S\n",
      "3           1       1  female  35.0      1      0  53.1000        S\n",
      "4           0       3    male  35.0      0      0   8.0500        S\n",
      "..        ...     ...     ...   ...    ...    ...      ...      ...\n",
      "619         0       2    male  26.0      0      0  10.5000        S\n",
      "620         0       3    male  27.0      1      0  14.4542        C\n",
      "621         1       1    male  42.0      1      0  52.5542        S\n",
      "622         1       3    male  20.0      1      1  15.7417        C\n",
      "623         0       3    male  21.0      0      0   7.8542        S\n",
      "\n",
      "[624 rows x 8 columns]\n"
     ]
    }
   ],
   "source": [
    "print(combine[0].head(65))\n",
    "print(combine[0])"
   ]
  },
  {
   "cell_type": "code",
   "execution_count": 592,
   "id": "1b67311c",
   "metadata": {},
   "outputs": [
    {
     "name": "stdout",
     "output_type": "stream",
     "text": [
      "0       male\n",
      "1     female\n",
      "2     female\n",
      "3     female\n",
      "4       male\n",
      "       ...  \n",
      "59      male\n",
      "60      male\n",
      "61    female\n",
      "62      male\n",
      "63      male\n",
      "Name: Sex, Length: 64, dtype: object\n"
     ]
    }
   ],
   "source": [
    "print(train_df['Sex'].head(64) )"
   ]
  },
  {
   "cell_type": "code",
   "execution_count": 585,
   "id": "5c8b7934",
   "metadata": {},
   "outputs": [
    {
     "ename": "NameError",
     "evalue": "name 'NA' is not defined",
     "output_type": "error",
     "traceback": [
      "\u001b[1;31m---------------------------------------------------------------------------\u001b[0m",
      "\u001b[1;31mNameError\u001b[0m                                 Traceback (most recent call last)",
      "\u001b[1;32m<ipython-input-585-bd16eec482d3>\u001b[0m in \u001b[0;36m<module>\u001b[1;34m\u001b[0m\n\u001b[0;32m      3\u001b[0m \u001b[1;33m\u001b[0m\u001b[0m\n\u001b[0;32m      4\u001b[0m \u001b[1;32mfor\u001b[0m \u001b[0mdataset\u001b[0m \u001b[1;32min\u001b[0m \u001b[0mcombine\u001b[0m \u001b[1;33m:\u001b[0m\u001b[1;33m\u001b[0m\u001b[1;33m\u001b[0m\u001b[0m\n\u001b[1;32m----> 5\u001b[1;33m     \u001b[0mdataset\u001b[0m\u001b[1;33m[\u001b[0m\u001b[1;34m'Embarked'\u001b[0m\u001b[1;33m]\u001b[0m \u001b[1;33m=\u001b[0m \u001b[0mdataset\u001b[0m\u001b[1;33m[\u001b[0m\u001b[1;34m'Embarked'\u001b[0m\u001b[1;33m]\u001b[0m\u001b[1;33m.\u001b[0m\u001b[0mmap\u001b[0m\u001b[1;33m(\u001b[0m\u001b[1;33m{\u001b[0m\u001b[1;34m'S'\u001b[0m\u001b[1;33m:\u001b[0m\u001b[1;36m1\u001b[0m\u001b[1;33m,\u001b[0m \u001b[1;34m'Q'\u001b[0m\u001b[1;33m:\u001b[0m\u001b[1;36m2\u001b[0m\u001b[1;33m,\u001b[0m \u001b[1;34m'C'\u001b[0m\u001b[1;33m:\u001b[0m \u001b[1;36m3\u001b[0m\u001b[1;33m,\u001b[0m \u001b[0mNA\u001b[0m\u001b[1;33m:\u001b[0m\u001b[1;36m0\u001b[0m\u001b[1;33m}\u001b[0m\u001b[1;33m)\u001b[0m\u001b[1;33m.\u001b[0m\u001b[0mastype\u001b[0m\u001b[1;33m(\u001b[0m\u001b[0mint\u001b[0m\u001b[1;33m)\u001b[0m\u001b[1;33m\u001b[0m\u001b[1;33m\u001b[0m\u001b[0m\n\u001b[0m",
      "\u001b[1;31mNameError\u001b[0m: name 'NA' is not defined"
     ]
    }
   ],
   "source": [
    "for dataset in combine :\n",
    "    dataset['Sex'] = dataset['Sex'].map({'female':1, 'male':0}).astype(int)\n",
    "\n",
    "for dataset in combine :\n",
    "    dataset['Embarked'] = dataset['Embarked'].map({'S':1, 'Q':2, 'C': 3}).astype(int)\n"
   ]
  },
  {
   "cell_type": "markdown",
   "id": "1c6a9388",
   "metadata": {},
   "source": [
    "https://ordo.tistory.com/51\n",
    "    https://wikidocs.net/29530\n",
    "    https://workingwithpython.com/howtohandlemissingvaluewithpython/"
   ]
  },
  {
   "cell_type": "code",
   "execution_count": 567,
   "id": "fee6a2d4",
   "metadata": {},
   "outputs": [
    {
     "name": "stdout",
     "output_type": "stream",
     "text": [
      "    Sex\n",
      "0     0\n",
      "1     1\n",
      "2     1\n",
      "3     1\n",
      "4     0\n",
      "..  ...\n",
      "59    0\n",
      "60    0\n",
      "62    0\n",
      "63    0\n",
      "64    0\n",
      "\n",
      "[64 rows x 1 columns]\n"
     ]
    }
   ],
   "source": [
    "OHE.fit(train_df[['Sex']])\n",
    "print(train_df[['Sex']].head(64) )"
   ]
  },
  {
   "cell_type": "code",
   "execution_count": 568,
   "id": "907808cc",
   "metadata": {},
   "outputs": [
    {
     "name": "stdout",
     "output_type": "stream",
     "text": [
      "    Survived  Pclass  Sex   Age  SibSp  Parch     Fare  Embarked  Sex_M  \\\n",
      "0        0.0     3.0  0.0  22.0    1.0    0.0   7.2500       1.0    1.0   \n",
      "1        1.0     1.0  1.0  38.0    1.0    0.0  71.2833       3.0    0.0   \n",
      "2        1.0     3.0  1.0  26.0    0.0    0.0   7.9250       1.0    0.0   \n",
      "3        1.0     1.0  1.0  35.0    1.0    0.0  53.1000       1.0    0.0   \n",
      "4        0.0     3.0  0.0  35.0    0.0    0.0   8.0500       1.0    1.0   \n",
      "..       ...     ...  ...   ...    ...    ...      ...       ...    ...   \n",
      "59       0.0     3.0  0.0  11.0    5.0    2.0  46.9000       1.0    1.0   \n",
      "60       0.0     3.0  0.0  22.0    0.0    0.0   7.2292       3.0    1.0   \n",
      "61       NaN     NaN  NaN   NaN    NaN    NaN      NaN       NaN    1.0   \n",
      "62       0.0     1.0  0.0  45.0    1.0    0.0  83.4750       1.0    1.0   \n",
      "63       0.0     3.0  0.0   4.0    3.0    2.0  27.9000       1.0    1.0   \n",
      "\n",
      "    Sex_F  Embarked_S  Embarked_Q  Embarked_C  \n",
      "0     0.0         1.0         0.0         0.0  \n",
      "1     1.0         0.0         0.0         1.0  \n",
      "2     1.0         1.0         0.0         0.0  \n",
      "3     1.0         1.0         0.0         0.0  \n",
      "4     0.0         1.0         0.0         0.0  \n",
      "..    ...         ...         ...         ...  \n",
      "59    0.0         1.0         0.0         0.0  \n",
      "60    0.0         0.0         0.0         1.0  \n",
      "61    0.0         1.0         0.0         0.0  \n",
      "62    0.0         1.0         0.0         0.0  \n",
      "63    0.0         0.0         0.0         1.0  \n",
      "\n",
      "[64 rows x 13 columns]\n"
     ]
    }
   ],
   "source": [
    "#train_df 재정비\n",
    "\n",
    "OHE.fit(train_df[['Sex']])\n",
    "train_tmpSex = pd.DataFrame( OHE.transform(train_df[['Sex']]), columns=['Sex_M', 'Sex_F'])\n",
    "OHE.fit(train_df[['Embarked']])\n",
    "train_tmpEmbarked = pd.DataFrame( OHE.transform(train_df[['Embarked']]), columns=['Embarked_S', 'Embarked_Q', 'Embarked_C'])\n",
    "\n",
    "\n",
    "\n",
    "train_tmp = pd.concat([train_tmpSex, train_tmpEmbarked], axis=1)\n",
    "train_tmp = train_tmp.dropna(subset=['Embarked_S'])\n",
    "\n",
    "#train_df = pd.concat([train_df, train_tmp], axis=1)\n",
    "\n",
    "train_df = pd.concat([train_df, train_tmpSex, train_tmpEmbarked], axis=1)\n",
    "\n",
    "#print(train_tmp.head(64))\n",
    "print(train_df.head(64))\n",
    "\n",
    "#train_df = pd.concat([train_df, train_tmpSex, train_tmpEmbarked], axis=1)\n",
    "\n",
    "#train_df = train_df.drop(['Sex', 'Embarked'], axis=1)\n",
    "\n",
    "#test_df  재정비\n",
    "\n",
    "OHE.fit(test_df[['Sex']])\n",
    "test_tmpSex = pd.DataFrame( OHE.transform(test_df[['Sex']]), columns=['Sex_M', 'Sex_F'])\n",
    "OHE.fit(test_df[['Embarked']])\n",
    "test_tmpEmbarked = pd.DataFrame( OHE.transform(test_df[['Embarked']]), columns=['Embarked_S', 'Embarked_Q', 'Embarked_C'])\n",
    "\n",
    "\n",
    "#test_df = pd.concat([test_df, test_tmpSex, test_tmpEmbarked], axis=1)\n",
    "#test_df = test_df.drop(['Sex', 'Embarked'], axis=1)\n",
    "test_tmpEmbarked = test_tmpEmbarked.dropna(subset=['Embarked_S'])\n",
    "\n",
    "\n",
    "combine=[train_df, test_df]"
   ]
  },
  {
   "cell_type": "code",
   "execution_count": 503,
   "id": "54461005",
   "metadata": {},
   "outputs": [
    {
     "name": "stdout",
     "output_type": "stream",
     "text": [
      "    Survived  Pclass   Age  SibSp  Parch     Fare\n",
      "0          0       3  22.0      1      0   7.2500\n",
      "1          1       1  38.0      1      0  71.2833\n",
      "2          1       3  26.0      0      0   7.9250\n",
      "3          1       1  35.0      1      0  53.1000\n",
      "4          0       3  35.0      0      0   8.0500\n",
      "..       ...     ...   ...    ...    ...      ...\n",
      "59         0       3  11.0      5      2  46.9000\n",
      "60         0       3  22.0      0      0   7.2292\n",
      "62         0       1  45.0      1      0  83.4750\n",
      "63         0       3   4.0      3      2  27.9000\n",
      "64         0       1   NaN      0      0  27.7208\n",
      "\n",
      "[64 rows x 6 columns]\n",
      "    Sex_M  Sex_F\n",
      "0     1.0    0.0\n",
      "1     0.0    1.0\n",
      "2     0.0    1.0\n",
      "3     0.0    1.0\n",
      "4     1.0    0.0\n",
      "..    ...    ...\n",
      "59    1.0    0.0\n",
      "60    1.0    0.0\n",
      "61    1.0    0.0\n",
      "62    1.0    0.0\n",
      "63    1.0    0.0\n",
      "\n",
      "[64 rows x 2 columns]\n",
      "    Embarked_S  Embarked_Q  Embarked_C\n",
      "0          1.0         0.0         0.0\n",
      "1          0.0         0.0         1.0\n",
      "2          1.0         0.0         0.0\n",
      "3          1.0         0.0         0.0\n",
      "4          1.0         0.0         0.0\n",
      "..         ...         ...         ...\n",
      "59         1.0         0.0         0.0\n",
      "60         0.0         0.0         1.0\n",
      "61         1.0         0.0         0.0\n",
      "62         1.0         0.0         0.0\n",
      "63         0.0         0.0         1.0\n",
      "\n",
      "[64 rows x 3 columns]\n"
     ]
    }
   ],
   "source": [
    "print(train_df.head(64))\n",
    "print(train_tmpSex.head(64))\n",
    "print(train_tmpEmbarked.head(64))"
   ]
  },
  {
   "cell_type": "code",
   "execution_count": 350,
   "id": "628bc73e",
   "metadata": {},
   "outputs": [],
   "source": [
    "test_df = pd.concat([test_df, test_tmpSex, test_tmpEmbarked])\n"
   ]
  },
  {
   "cell_type": "code",
   "execution_count": 258,
   "id": "0eb5eed2",
   "metadata": {},
   "outputs": [
    {
     "name": "stdout",
     "output_type": "stream",
     "text": [
      "[0 1 0 0 0 1 0 0 0 1 0 0 0 0 0 0 1 0 0 1 0 0 1 0 0 0 1 0 1 0 1 1 1 0 1 0 1\n",
      " 0 0 1 0 0 1 1 1 0 1 1 1 0 0 0 1 0 1 0 0 1 0 0 1 0 0 1 1 0 0 0 0 0 0 0 1 0\n",
      " 0 0 0 0 0 0 0 1 0 0 0 0 0 0 0 0 0 0 0 0 0 1 1 0 0 0 0 0 0 0 0 0 0 0 1 0 1\n",
      " 0 0 1 0 1 0 1 0 0 0 1 0 0 1 1 0 1 0 1 0 0 0 0 1 0 0 0 1 1 0 0 1 0 0 0 0 0\n",
      " 0 0 0 0 0 0 1 1 0 0 0 0 0 0 0 0 0 0 0 0 0 0 1 0 0 1 0 0 1 0 0 0 1 0 0 0 0\n",
      " 1 0 1 0 0 0 0 0 1 1 1 0 1 0 0 0 0 1 0 0 0 1 1 1 0 0 0 0 1 1 0 0 1 0 0 0 0\n",
      " 0 0 0 0 0 0 0 0 0 0 0 0 0 0 0 0 0 1 1 0 0 1 1 0 0 0 0 0 0 0 0 0 1 1 0 1 0\n",
      " 1 0 0 0 1 0 0 0 0 0 0 0 0 1 1 0 0 0 1 0 1 0 0 0 0 1 0 0 0 1 0 1 1 0 0 1 1\n",
      " 0 0 1 1 1 0 1 0 0 1 1 1 1 1 1 0 0 0 0 0 0 0 1 0 0 1 0 0 1 0 0 0 1 1 0 0 0\n",
      " 0 0 0 1 0 0 0 0 0 0 0 0 0 0 0 0 0 0 1 0 1 0 0 0 1 1 0 1 1 0 1 0 1 1 1 1 1\n",
      " 0 0 1 0 1 0 1 1 0 1 1 0 0 0 0 0 0 1 1 0 0 0 1 0 0 0 0 0 0 0 0 0 0 0 0 0 0\n",
      " 0 0 0 1 1 0 0 0 0 0 0 0 1 1 0 0 0 0 0 0 1 0 0 0 0 0 0 0 0 0 0 0 0 0 0 0 0\n",
      " 0 0 0 1 0 0 0 1 1 0 1 0 0 0 1 0 0 0 0 0 0 0 0 1 1 0 0 0 1 0 0 0 0 0 0 0 0\n",
      " 0 0 1 0 0 1 0 0 0 0 0 1 0 1 1 0 0 0 0 1 1 0 0 1 0 0 0 0 1 0 0 1 0 0 0 1 0\n",
      " 0 0 0 1 1 1 1 0 0 0 0 0 1 1 1 0 0 0 1 0 1 0 0 0 0 1 0 0 1 0 0 1 0 1 1 0 0\n",
      " 1 1 0 0 1 0 0 0 0 0 0 0 1 0 0 0 0 1 0 0 0 0 1 0 0 1 0 1 1 0 0 1 0 0 0 1 0\n",
      " 1 0 0 0 0 1 1 0 0 0 0 1 0 0 0 1 0 0 0 1 1 0 0 0 0 0 0 1 0 1 0]\n"
     ]
    },
    {
     "ename": "AttributeError",
     "evalue": "'numpy.ndarray' object has no attribute 'categories'",
     "output_type": "error",
     "traceback": [
      "\u001b[1;31m---------------------------------------------------------------------------\u001b[0m",
      "\u001b[1;31mAttributeError\u001b[0m                            Traceback (most recent call last)",
      "\u001b[1;32m<ipython-input-258-7e6efc0fde71>\u001b[0m in \u001b[0;36m<module>\u001b[1;34m\u001b[0m\n\u001b[0;32m      6\u001b[0m \u001b[1;33m\u001b[0m\u001b[0m\n\u001b[0;32m      7\u001b[0m \u001b[0mprint\u001b[0m\u001b[1;33m(\u001b[0m\u001b[0mtrain_tmpEmbarked\u001b[0m\u001b[1;33m)\u001b[0m\u001b[1;33m\u001b[0m\u001b[1;33m\u001b[0m\u001b[0m\n\u001b[1;32m----> 8\u001b[1;33m \u001b[0mprint\u001b[0m\u001b[1;33m(\u001b[0m\u001b[0mtrain_tmpEmbarked\u001b[0m\u001b[1;33m.\u001b[0m\u001b[0mcategories\u001b[0m\u001b[1;33m)\u001b[0m\u001b[1;33m\u001b[0m\u001b[1;33m\u001b[0m\u001b[0m\n\u001b[0m\u001b[0;32m      9\u001b[0m \u001b[1;33m\u001b[0m\u001b[0m\n",
      "\u001b[1;31mAttributeError\u001b[0m: 'numpy.ndarray' object has no attribute 'categories'"
     ]
    }
   ],
   "source": [
    "\n",
    "train_tmpSex = LE.fit_transform(train_df['Sex'])\n",
    "test_tmpSex = LE.fit_transform(test_df['Sex'])\n",
    "\n",
    "train_tmpEmbarked = LE.fit_transform(train_df[['Embarked']])\n",
    "test_tmpEmbarked = LE.fit_transform(test_df[['Embarked']])\n",
    "\n",
    "print(train_tmpEmbarked)\n",
    "print(train_tmpEmbarked.categories)\n",
    "\n"
   ]
  },
  {
   "cell_type": "code",
   "execution_count": null,
   "id": "1d39826c",
   "metadata": {},
   "outputs": [],
   "source": []
  },
  {
   "cell_type": "code",
   "execution_count": null,
   "id": "ead2a50e",
   "metadata": {},
   "outputs": [],
   "source": []
  },
  {
   "cell_type": "code",
   "execution_count": 249,
   "id": "e3b0985b",
   "metadata": {},
   "outputs": [
    {
     "data": {
      "text/html": [
       "<div>\n",
       "<style scoped>\n",
       "    .dataframe tbody tr th:only-of-type {\n",
       "        vertical-align: middle;\n",
       "    }\n",
       "\n",
       "    .dataframe tbody tr th {\n",
       "        vertical-align: top;\n",
       "    }\n",
       "\n",
       "    .dataframe thead th {\n",
       "        text-align: right;\n",
       "    }\n",
       "</style>\n",
       "<table border=\"1\" class=\"dataframe\">\n",
       "  <thead>\n",
       "    <tr style=\"text-align: right;\">\n",
       "      <th></th>\n",
       "      <th>Survived</th>\n",
       "      <th>Pclass</th>\n",
       "      <th>Sex</th>\n",
       "      <th>Age</th>\n",
       "      <th>SibSp</th>\n",
       "      <th>Parch</th>\n",
       "      <th>Fare</th>\n",
       "      <th>Embarked</th>\n",
       "    </tr>\n",
       "  </thead>\n",
       "  <tbody>\n",
       "    <tr>\n",
       "      <th>0</th>\n",
       "      <td>0</td>\n",
       "      <td>3</td>\n",
       "      <td>1.0</td>\n",
       "      <td>22.0</td>\n",
       "      <td>1</td>\n",
       "      <td>0</td>\n",
       "      <td>7.2500</td>\n",
       "      <td>1.0</td>\n",
       "    </tr>\n",
       "    <tr>\n",
       "      <th>1</th>\n",
       "      <td>1</td>\n",
       "      <td>1</td>\n",
       "      <td>0.0</td>\n",
       "      <td>38.0</td>\n",
       "      <td>1</td>\n",
       "      <td>0</td>\n",
       "      <td>71.2833</td>\n",
       "      <td>0.0</td>\n",
       "    </tr>\n",
       "    <tr>\n",
       "      <th>2</th>\n",
       "      <td>1</td>\n",
       "      <td>3</td>\n",
       "      <td>0.0</td>\n",
       "      <td>26.0</td>\n",
       "      <td>0</td>\n",
       "      <td>0</td>\n",
       "      <td>7.9250</td>\n",
       "      <td>1.0</td>\n",
       "    </tr>\n",
       "    <tr>\n",
       "      <th>3</th>\n",
       "      <td>1</td>\n",
       "      <td>1</td>\n",
       "      <td>0.0</td>\n",
       "      <td>35.0</td>\n",
       "      <td>1</td>\n",
       "      <td>0</td>\n",
       "      <td>53.1000</td>\n",
       "      <td>1.0</td>\n",
       "    </tr>\n",
       "    <tr>\n",
       "      <th>4</th>\n",
       "      <td>0</td>\n",
       "      <td>3</td>\n",
       "      <td>1.0</td>\n",
       "      <td>35.0</td>\n",
       "      <td>0</td>\n",
       "      <td>0</td>\n",
       "      <td>8.0500</td>\n",
       "      <td>1.0</td>\n",
       "    </tr>\n",
       "    <tr>\n",
       "      <th>5</th>\n",
       "      <td>0</td>\n",
       "      <td>3</td>\n",
       "      <td>1.0</td>\n",
       "      <td>NaN</td>\n",
       "      <td>0</td>\n",
       "      <td>0</td>\n",
       "      <td>8.4583</td>\n",
       "      <td>0.0</td>\n",
       "    </tr>\n",
       "    <tr>\n",
       "      <th>6</th>\n",
       "      <td>0</td>\n",
       "      <td>1</td>\n",
       "      <td>1.0</td>\n",
       "      <td>54.0</td>\n",
       "      <td>0</td>\n",
       "      <td>0</td>\n",
       "      <td>51.8625</td>\n",
       "      <td>1.0</td>\n",
       "    </tr>\n",
       "    <tr>\n",
       "      <th>7</th>\n",
       "      <td>0</td>\n",
       "      <td>3</td>\n",
       "      <td>1.0</td>\n",
       "      <td>2.0</td>\n",
       "      <td>3</td>\n",
       "      <td>1</td>\n",
       "      <td>21.0750</td>\n",
       "      <td>1.0</td>\n",
       "    </tr>\n",
       "    <tr>\n",
       "      <th>8</th>\n",
       "      <td>1</td>\n",
       "      <td>3</td>\n",
       "      <td>0.0</td>\n",
       "      <td>27.0</td>\n",
       "      <td>0</td>\n",
       "      <td>2</td>\n",
       "      <td>11.1333</td>\n",
       "      <td>1.0</td>\n",
       "    </tr>\n",
       "    <tr>\n",
       "      <th>9</th>\n",
       "      <td>1</td>\n",
       "      <td>2</td>\n",
       "      <td>0.0</td>\n",
       "      <td>14.0</td>\n",
       "      <td>1</td>\n",
       "      <td>0</td>\n",
       "      <td>30.0708</td>\n",
       "      <td>0.0</td>\n",
       "    </tr>\n",
       "    <tr>\n",
       "      <th>10</th>\n",
       "      <td>1</td>\n",
       "      <td>3</td>\n",
       "      <td>0.0</td>\n",
       "      <td>4.0</td>\n",
       "      <td>1</td>\n",
       "      <td>1</td>\n",
       "      <td>16.7000</td>\n",
       "      <td>1.0</td>\n",
       "    </tr>\n",
       "    <tr>\n",
       "      <th>11</th>\n",
       "      <td>1</td>\n",
       "      <td>1</td>\n",
       "      <td>0.0</td>\n",
       "      <td>58.0</td>\n",
       "      <td>0</td>\n",
       "      <td>0</td>\n",
       "      <td>26.5500</td>\n",
       "      <td>1.0</td>\n",
       "    </tr>\n",
       "    <tr>\n",
       "      <th>12</th>\n",
       "      <td>0</td>\n",
       "      <td>3</td>\n",
       "      <td>1.0</td>\n",
       "      <td>20.0</td>\n",
       "      <td>0</td>\n",
       "      <td>0</td>\n",
       "      <td>8.0500</td>\n",
       "      <td>1.0</td>\n",
       "    </tr>\n",
       "    <tr>\n",
       "      <th>13</th>\n",
       "      <td>0</td>\n",
       "      <td>3</td>\n",
       "      <td>1.0</td>\n",
       "      <td>39.0</td>\n",
       "      <td>1</td>\n",
       "      <td>5</td>\n",
       "      <td>31.2750</td>\n",
       "      <td>1.0</td>\n",
       "    </tr>\n",
       "    <tr>\n",
       "      <th>14</th>\n",
       "      <td>0</td>\n",
       "      <td>3</td>\n",
       "      <td>0.0</td>\n",
       "      <td>14.0</td>\n",
       "      <td>0</td>\n",
       "      <td>0</td>\n",
       "      <td>7.8542</td>\n",
       "      <td>1.0</td>\n",
       "    </tr>\n",
       "    <tr>\n",
       "      <th>15</th>\n",
       "      <td>1</td>\n",
       "      <td>2</td>\n",
       "      <td>0.0</td>\n",
       "      <td>55.0</td>\n",
       "      <td>0</td>\n",
       "      <td>0</td>\n",
       "      <td>16.0000</td>\n",
       "      <td>1.0</td>\n",
       "    </tr>\n",
       "    <tr>\n",
       "      <th>16</th>\n",
       "      <td>0</td>\n",
       "      <td>3</td>\n",
       "      <td>1.0</td>\n",
       "      <td>2.0</td>\n",
       "      <td>4</td>\n",
       "      <td>1</td>\n",
       "      <td>29.1250</td>\n",
       "      <td>0.0</td>\n",
       "    </tr>\n",
       "    <tr>\n",
       "      <th>17</th>\n",
       "      <td>1</td>\n",
       "      <td>2</td>\n",
       "      <td>1.0</td>\n",
       "      <td>NaN</td>\n",
       "      <td>0</td>\n",
       "      <td>0</td>\n",
       "      <td>13.0000</td>\n",
       "      <td>1.0</td>\n",
       "    </tr>\n",
       "    <tr>\n",
       "      <th>18</th>\n",
       "      <td>0</td>\n",
       "      <td>3</td>\n",
       "      <td>0.0</td>\n",
       "      <td>31.0</td>\n",
       "      <td>1</td>\n",
       "      <td>0</td>\n",
       "      <td>18.0000</td>\n",
       "      <td>1.0</td>\n",
       "    </tr>\n",
       "    <tr>\n",
       "      <th>19</th>\n",
       "      <td>1</td>\n",
       "      <td>3</td>\n",
       "      <td>0.0</td>\n",
       "      <td>NaN</td>\n",
       "      <td>0</td>\n",
       "      <td>0</td>\n",
       "      <td>7.2250</td>\n",
       "      <td>0.0</td>\n",
       "    </tr>\n",
       "    <tr>\n",
       "      <th>20</th>\n",
       "      <td>0</td>\n",
       "      <td>2</td>\n",
       "      <td>1.0</td>\n",
       "      <td>35.0</td>\n",
       "      <td>0</td>\n",
       "      <td>0</td>\n",
       "      <td>26.0000</td>\n",
       "      <td>1.0</td>\n",
       "    </tr>\n",
       "    <tr>\n",
       "      <th>21</th>\n",
       "      <td>1</td>\n",
       "      <td>2</td>\n",
       "      <td>1.0</td>\n",
       "      <td>34.0</td>\n",
       "      <td>0</td>\n",
       "      <td>0</td>\n",
       "      <td>13.0000</td>\n",
       "      <td>1.0</td>\n",
       "    </tr>\n",
       "    <tr>\n",
       "      <th>22</th>\n",
       "      <td>1</td>\n",
       "      <td>3</td>\n",
       "      <td>0.0</td>\n",
       "      <td>15.0</td>\n",
       "      <td>0</td>\n",
       "      <td>0</td>\n",
       "      <td>8.0292</td>\n",
       "      <td>0.0</td>\n",
       "    </tr>\n",
       "    <tr>\n",
       "      <th>23</th>\n",
       "      <td>1</td>\n",
       "      <td>1</td>\n",
       "      <td>1.0</td>\n",
       "      <td>28.0</td>\n",
       "      <td>0</td>\n",
       "      <td>0</td>\n",
       "      <td>35.5000</td>\n",
       "      <td>1.0</td>\n",
       "    </tr>\n",
       "    <tr>\n",
       "      <th>24</th>\n",
       "      <td>0</td>\n",
       "      <td>3</td>\n",
       "      <td>0.0</td>\n",
       "      <td>8.0</td>\n",
       "      <td>3</td>\n",
       "      <td>1</td>\n",
       "      <td>21.0750</td>\n",
       "      <td>1.0</td>\n",
       "    </tr>\n",
       "    <tr>\n",
       "      <th>25</th>\n",
       "      <td>1</td>\n",
       "      <td>3</td>\n",
       "      <td>0.0</td>\n",
       "      <td>38.0</td>\n",
       "      <td>1</td>\n",
       "      <td>5</td>\n",
       "      <td>31.3875</td>\n",
       "      <td>1.0</td>\n",
       "    </tr>\n",
       "    <tr>\n",
       "      <th>26</th>\n",
       "      <td>0</td>\n",
       "      <td>3</td>\n",
       "      <td>1.0</td>\n",
       "      <td>NaN</td>\n",
       "      <td>0</td>\n",
       "      <td>0</td>\n",
       "      <td>7.2250</td>\n",
       "      <td>0.0</td>\n",
       "    </tr>\n",
       "    <tr>\n",
       "      <th>27</th>\n",
       "      <td>0</td>\n",
       "      <td>1</td>\n",
       "      <td>1.0</td>\n",
       "      <td>19.0</td>\n",
       "      <td>3</td>\n",
       "      <td>2</td>\n",
       "      <td>263.0000</td>\n",
       "      <td>1.0</td>\n",
       "    </tr>\n",
       "    <tr>\n",
       "      <th>28</th>\n",
       "      <td>1</td>\n",
       "      <td>3</td>\n",
       "      <td>0.0</td>\n",
       "      <td>NaN</td>\n",
       "      <td>0</td>\n",
       "      <td>0</td>\n",
       "      <td>7.8792</td>\n",
       "      <td>0.0</td>\n",
       "    </tr>\n",
       "    <tr>\n",
       "      <th>29</th>\n",
       "      <td>0</td>\n",
       "      <td>3</td>\n",
       "      <td>1.0</td>\n",
       "      <td>NaN</td>\n",
       "      <td>0</td>\n",
       "      <td>0</td>\n",
       "      <td>7.8958</td>\n",
       "      <td>1.0</td>\n",
       "    </tr>\n",
       "  </tbody>\n",
       "</table>\n",
       "</div>"
      ],
      "text/plain": [
       "    Survived  Pclass  Sex   Age  SibSp  Parch      Fare  Embarked\n",
       "0          0       3  1.0  22.0      1      0    7.2500       1.0\n",
       "1          1       1  0.0  38.0      1      0   71.2833       0.0\n",
       "2          1       3  0.0  26.0      0      0    7.9250       1.0\n",
       "3          1       1  0.0  35.0      1      0   53.1000       1.0\n",
       "4          0       3  1.0  35.0      0      0    8.0500       1.0\n",
       "5          0       3  1.0   NaN      0      0    8.4583       0.0\n",
       "6          0       1  1.0  54.0      0      0   51.8625       1.0\n",
       "7          0       3  1.0   2.0      3      1   21.0750       1.0\n",
       "8          1       3  0.0  27.0      0      2   11.1333       1.0\n",
       "9          1       2  0.0  14.0      1      0   30.0708       0.0\n",
       "10         1       3  0.0   4.0      1      1   16.7000       1.0\n",
       "11         1       1  0.0  58.0      0      0   26.5500       1.0\n",
       "12         0       3  1.0  20.0      0      0    8.0500       1.0\n",
       "13         0       3  1.0  39.0      1      5   31.2750       1.0\n",
       "14         0       3  0.0  14.0      0      0    7.8542       1.0\n",
       "15         1       2  0.0  55.0      0      0   16.0000       1.0\n",
       "16         0       3  1.0   2.0      4      1   29.1250       0.0\n",
       "17         1       2  1.0   NaN      0      0   13.0000       1.0\n",
       "18         0       3  0.0  31.0      1      0   18.0000       1.0\n",
       "19         1       3  0.0   NaN      0      0    7.2250       0.0\n",
       "20         0       2  1.0  35.0      0      0   26.0000       1.0\n",
       "21         1       2  1.0  34.0      0      0   13.0000       1.0\n",
       "22         1       3  0.0  15.0      0      0    8.0292       0.0\n",
       "23         1       1  1.0  28.0      0      0   35.5000       1.0\n",
       "24         0       3  0.0   8.0      3      1   21.0750       1.0\n",
       "25         1       3  0.0  38.0      1      5   31.3875       1.0\n",
       "26         0       3  1.0   NaN      0      0    7.2250       0.0\n",
       "27         0       1  1.0  19.0      3      2  263.0000       1.0\n",
       "28         1       3  0.0   NaN      0      0    7.8792       0.0\n",
       "29         0       3  1.0   NaN      0      0    7.8958       1.0"
      ]
     },
     "execution_count": 249,
     "metadata": {},
     "output_type": "execute_result"
    }
   ],
   "source": [
    "train_df.head(30)"
   ]
  },
  {
   "cell_type": "code",
   "execution_count": 253,
   "id": "b1eefbbb",
   "metadata": {},
   "outputs": [
    {
     "name": "stdout",
     "output_type": "stream",
     "text": [
      "[[0. 1.]\n",
      " [1. 0.]\n",
      " [0. 1.]\n",
      " ...\n",
      " [0. 1.]\n",
      " [1. 0.]\n",
      " [0. 1.]]\n",
      "[[0. 1.]\n",
      " [1. 0.]\n",
      " [0. 1.]\n",
      " ...\n",
      " [0. 1.]\n",
      " [1. 0.]\n",
      " [0. 1.]]\n"
     ]
    }
   ],
   "source": [
    "train_tmpSex = OHE.fit_transform(train_df[['Sex']]).toarray()\n",
    "test_tmpSex = OHE.fit_transform(test_df[['Sex']]).toarray()\n",
    "\n",
    "train_tmpEmbarked = OHE.fit_transform(train_df[['Embarked']]).toarray()\n",
    "test_tmpEmbarked = OHE.fit_transform(test_df[['Embarked']]).toarray()\n",
    "\n",
    "print(train_tmpEmbarked)\n",
    "print(train_tmpEmbarked)"
   ]
  },
  {
   "cell_type": "code",
   "execution_count": 255,
   "id": "32846bfc",
   "metadata": {},
   "outputs": [
    {
     "name": "stdout",
     "output_type": "stream",
     "text": [
      "[[0. 1.]\n",
      " [1. 0.]\n",
      " [0. 1.]\n",
      " ...\n",
      " [0. 1.]\n",
      " [1. 0.]\n",
      " [0. 1.]]\n",
      "0      0.0\n",
      "1      1.0\n",
      "2      0.0\n",
      "3      0.0\n",
      "4      0.0\n",
      "      ... \n",
      "619    0.0\n",
      "620    1.0\n",
      "621    0.0\n",
      "622    1.0\n",
      "623    0.0\n",
      "Name: Embarked, Length: 623, dtype: float64\n"
     ]
    }
   ],
   "source": [
    "train_df['Sex'] = train_tmpSex\n",
    "test_df['Sex'] = test_tmpSex\n",
    "\n",
    "train_df['Embarked'] = train_tmpEmbarked\n",
    "test_df['Embarked'] = test_tmpEmbarked\n",
    "\n",
    "print(train_tmpEmbarked)\n",
    "print(train_df['Embarked'])"
   ]
  },
  {
   "cell_type": "code",
   "execution_count": null,
   "id": "d02009c6",
   "metadata": {},
   "outputs": [],
   "source": [
    "train_df.head(64)"
   ]
  },
  {
   "cell_type": "markdown",
   "id": "51530155",
   "metadata": {},
   "source": [
    "  #### 2-4) 그 외 진행한 전처리 과정이 있다면 서술하세요\n",
    "    -> 범주에 따른 분류가 가능해야 하므로, 원래는 연속적 성질을 가진 feature인 'Age'와 'Fare'를 일정 구간 별로 나누어 범주화시켰음, 2-1-b)를 해결하고 OneHotEncoding까지"
   ]
  },
  {
   "cell_type": "code",
   "execution_count": null,
   "id": "bdd1b137",
   "metadata": {},
   "outputs": [],
   "source": []
  },
  {
   "cell_type": "code",
   "execution_count": null,
   "id": "8e11f107",
   "metadata": {},
   "outputs": [],
   "source": []
  },
  {
   "cell_type": "markdown",
   "id": "ee91a672",
   "metadata": {},
   "source": [
    "## 3. Machine Learning Models: scikit-learn을 이용해 후술할 세 가지 machine learning model를 구현하고 성능을 평가하세요."
   ]
  },
  {
   "cell_type": "markdown",
   "id": "355b02c3",
   "metadata": {},
   "source": [
    "3-1 K-Nearest Neighbors(KNN): K(이웃)의 개수를 [1~5]까지 변화시키면서 test data에서 결과가\n",
    "어떻게 변하는지 분석하세요"
   ]
  },
  {
   "cell_type": "code",
   "execution_count": null,
   "id": "1d917833",
   "metadata": {},
   "outputs": [],
   "source": []
  },
  {
   "cell_type": "code",
   "execution_count": null,
   "id": "fb4c3747",
   "metadata": {},
   "outputs": [],
   "source": []
  },
  {
   "cell_type": "code",
   "execution_count": null,
   "id": "f4af21c4",
   "metadata": {},
   "outputs": [],
   "source": []
  },
  {
   "cell_type": "code",
   "execution_count": null,
   "id": "f152b75c",
   "metadata": {},
   "outputs": [],
   "source": []
  },
  {
   "cell_type": "code",
   "execution_count": null,
   "id": "8d5b137a",
   "metadata": {},
   "outputs": [],
   "source": []
  },
  {
   "cell_type": "code",
   "execution_count": null,
   "id": "f22f2a40",
   "metadata": {},
   "outputs": [],
   "source": []
  },
  {
   "cell_type": "markdown",
   "id": "b068bd1a",
   "metadata": {},
   "source": [
    "4. Evaluation Methods: 각각 모델에 따른 성능을 Accuracy, F1-Score을 통해 나타내세요.\n"
   ]
  },
  {
   "cell_type": "code",
   "execution_count": null,
   "id": "e95b046e",
   "metadata": {},
   "outputs": [],
   "source": []
  },
  {
   "cell_type": "markdown",
   "id": "c88e1582",
   "metadata": {},
   "source": [
    "3-2 Logistic Regression: Iteration 횟수를 [0~100] 범위에서 20씩 변화시키면서 test data에서 결\n",
    "과가 어떻게 변하는지 분석하세요. Iteration 횟수를 100으로 고정한 후 regularization\n",
    "term(scikit-learn에서는 C)를 [0~5]의 범위에서 1씩 변화시키면서 test data에서 결과가 어떻게\n",
    "변하는지 분석하세요."
   ]
  },
  {
   "cell_type": "code",
   "execution_count": null,
   "id": "75fb8524",
   "metadata": {},
   "outputs": [],
   "source": []
  },
  {
   "cell_type": "code",
   "execution_count": null,
   "id": "b77e7f2a",
   "metadata": {},
   "outputs": [],
   "source": []
  },
  {
   "cell_type": "code",
   "execution_count": null,
   "id": "190bf76e",
   "metadata": {},
   "outputs": [],
   "source": []
  },
  {
   "cell_type": "markdown",
   "id": "3581f5b3",
   "metadata": {},
   "source": [
    "4. Evaluation Methods: 각각 모델에 따른 성능을 Accuracy, F1-Score을 통해 나타내세요."
   ]
  },
  {
   "cell_type": "code",
   "execution_count": null,
   "id": "e88391fd",
   "metadata": {},
   "outputs": [],
   "source": []
  },
  {
   "cell_type": "markdown",
   "id": "61e1cb32",
   "metadata": {},
   "source": [
    "3-3 Decision Tree: Information Gain을 통해 test data에서 결과가 어떻게 나오는지 분석하세요.\n",
    "또한 적절한 tool을 이용하여 각 depth에서의 조건과 gain값을 알 수 있도록 tree를 시각화\n",
    "하세요."
   ]
  },
  {
   "cell_type": "code",
   "execution_count": null,
   "id": "f754b834",
   "metadata": {},
   "outputs": [],
   "source": []
  },
  {
   "cell_type": "code",
   "execution_count": null,
   "id": "ef9ec987",
   "metadata": {},
   "outputs": [],
   "source": []
  },
  {
   "cell_type": "code",
   "execution_count": null,
   "id": "f53e1f39",
   "metadata": {},
   "outputs": [],
   "source": []
  },
  {
   "cell_type": "markdown",
   "id": "eb35c28d",
   "metadata": {},
   "source": [
    "4. Evaluation Methods: 각각 모델에 따른 성능을 Accuracy, F1-Score을 통해 나타내세요."
   ]
  },
  {
   "cell_type": "code",
   "execution_count": null,
   "id": "a9a3bc4b",
   "metadata": {},
   "outputs": [],
   "source": []
  },
  {
   "cell_type": "markdown",
   "id": "f1455e12",
   "metadata": {},
   "source": [
    "3-3-1 Bagging with Decision Tree: Decision Tree 기반으로 Bagging 기법을 이용하여 bag의\n",
    "수에 따라 test data에서 결과가 어떻게 변하는지 decision tree와 비교하여 분석하세요.\n",
    "Bag의 수는 [1~5]에서 1씩 변화시키세요"
   ]
  },
  {
   "cell_type": "code",
   "execution_count": null,
   "id": "84695ec1",
   "metadata": {},
   "outputs": [],
   "source": []
  },
  {
   "cell_type": "code",
   "execution_count": null,
   "id": "1f96015f",
   "metadata": {},
   "outputs": [],
   "source": []
  },
  {
   "cell_type": "code",
   "execution_count": null,
   "id": "b2d95496",
   "metadata": {},
   "outputs": [],
   "source": []
  },
  {
   "cell_type": "code",
   "execution_count": null,
   "id": "4171395d",
   "metadata": {},
   "outputs": [],
   "source": []
  },
  {
   "cell_type": "code",
   "execution_count": null,
   "id": "72a7f78b",
   "metadata": {},
   "outputs": [],
   "source": []
  },
  {
   "cell_type": "code",
   "execution_count": null,
   "id": "028deaaf",
   "metadata": {},
   "outputs": [],
   "source": []
  },
  {
   "cell_type": "code",
   "execution_count": null,
   "id": "bd8cdc52",
   "metadata": {},
   "outputs": [],
   "source": []
  },
  {
   "cell_type": "markdown",
   "id": "2374c57a",
   "metadata": {},
   "source": [
    "4. Evaluation Methods: 각각 모델에 따른 성능을 Accuracy, F1-Score을 통해 나타내세요."
   ]
  },
  {
   "cell_type": "code",
   "execution_count": null,
   "id": "427873ae",
   "metadata": {},
   "outputs": [],
   "source": []
  }
 ],
 "metadata": {
  "kernelspec": {
   "display_name": "Python 3",
   "language": "python",
   "name": "python3"
  },
  "language_info": {
   "codemirror_mode": {
    "name": "ipython",
    "version": 3
   },
   "file_extension": ".py",
   "mimetype": "text/x-python",
   "name": "python",
   "nbconvert_exporter": "python",
   "pygments_lexer": "ipython3",
   "version": "3.8.8"
  }
 },
 "nbformat": 4,
 "nbformat_minor": 5
}
