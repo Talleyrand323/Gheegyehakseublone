{
 "cells": [
  {
   "cell_type": "markdown",
   "id": "3150a3ff",
   "metadata": {},
   "source": [
    "## 1. Benchmark Dataset: \n",
    "타이타닉 호에서 탑승했던 사람들의 정보를 바탕으로 생존 여부를 예측\n",
    "하는 문제입니다. 과제에서 제시한 머신러닝 모델들을 이용하여 각 모델의 성능을 평가해야\n",
    "합니다. 데이터는 다음 주소에서 얻을 수 있습니다: https://www.kaggle.com/c/titanic\n",
    "이번 과제에서는 모델 학습 및 테스트 모두 train.csv파일을 이용합니다.\n",
    "과제를 수행하실 때 다음의 feature들은 모델 학습에 이용하지 않도록 주의해주세요.\n",
    "제외할 feature: PassengerId, Name, Ticket, Cabin"
   ]
  },
  {
   "cell_type": "markdown",
   "id": "d6458c39",
   "metadata": {},
   "source": [
    "## 2. Preprocessing\n",
    "    1) train data에 결측치(NULL)가 있는 feature들이 있습니다. 이 값들을 어떻게 처리할 것인지 아이디어를 제시하고 실제로 구현하세요. \n",
    "    2) One-Hot encoding을 수행할 필요가 있는 feature들이 무엇이며 그 이유는 무엇인지 서술하세요. 또한 실제로 어떻게 구현했는지 보고서에 나타내세요.\n",
    "    3) train.csv의 sample을 7대 3으로 학습 데이터와 테스트 데이터로 사용하세요.\n",
    "    4) 그 외 진행한 전처리 과정이 있다면 서술하세요"
   ]
  },
  {
   "cell_type": "markdown",
   "id": "a5a2ec31",
   "metadata": {},
   "source": [
    "https://dlearner.tistory.com/22"
   ]
  },
  {
   "cell_type": "markdown",
   "id": "d84f37ab",
   "metadata": {},
   "source": [
    "가장 먼저, 2-3) train.csv 파일 안의 891개 sample 중에서 89 * 3 = 267개를 떼어내어 tran.csv를 만들었음"
   ]
  },
  {
   "cell_type": "code",
   "execution_count": 2,
   "id": "b65e570a",
   "metadata": {},
   "outputs": [],
   "source": [
    "import pandas as pd\n",
    "import numpy as np\n",
    "import random as rnd"
   ]
  },
  {
   "cell_type": "code",
   "execution_count": 5,
   "id": "90352e32",
   "metadata": {},
   "outputs": [],
   "source": [
    "import seaborn as sns\n",
    "import matplotlib.pyplot as plt\n",
    "%matplotlib inline\n",
    "import warnings\n",
    "warnings.filterwarnings(action='ignore')"
   ]
  },
  {
   "cell_type": "code",
   "execution_count": 6,
   "id": "d8809e7f",
   "metadata": {},
   "outputs": [],
   "source": [
    "# 모델\n",
    "from sklearn.neighbors import KNeighborsClassifier\n",
    "from sklearn.linear_model import LogisticRegression\n",
    "from sklearn.tree import DecisionTreeClassifier\n",
    "\n",
    "from sklearn.ensemble import BaggingClassifier"
   ]
  },
  {
   "cell_type": "code",
   "execution_count": 22,
   "id": "44aa500a",
   "metadata": {},
   "outputs": [],
   "source": [
    "train_df = pd.read_csv(\"train.csv\")\n",
    "test_df = pd.read_csv('test.csv')\n",
    "combine=[train_df, test_df]"
   ]
  },
  {
   "cell_type": "markdown",
   "id": "fd240773",
   "metadata": {},
   "source": [
    "1 제외할 feature: PassengerId, Name, Ticket, Cabin"
   ]
  },
  {
   "cell_type": "code",
   "execution_count": 23,
   "id": "01ccab5a",
   "metadata": {},
   "outputs": [],
   "source": [
    "train_df = train_df.drop(['PassengerId', 'Name', 'Ticket', 'Cabin'], axis=1)\n",
    "test_df = test_df.drop(['PassengerId', 'Name', 'Ticket', 'Cabin'], axis=1)"
   ]
  },
  {
   "cell_type": "code",
   "execution_count": 20,
   "id": "f17b745d",
   "metadata": {},
   "outputs": [
    {
     "name": "stdout",
     "output_type": "stream",
     "text": [
      "['Survived' 'Pclass' 'Sex' 'Age' 'SibSp' 'Parch' 'Fare' 'Embarked']\n"
     ]
    }
   ],
   "source": [
    "print(train_df.columns.values)"
   ]
  },
  {
   "cell_type": "markdown",
   "id": "7ded9807",
   "metadata": {},
   "source": [
    "    2-2) One-Hot encoding을 수행할 필요가 있는 feature들이 무엇이며 그 이유는 무엇인지 서술하세요. 또한 실제로 어떻게 구현했는지 보고서에 나타내세요.\n",
    "-> scikit-learn을 사용할 때 문자열로 나타나는 feature들은 Label이든 One-Hot이든 숫자로 encoding해 줘야 함. 'Sex', 'Embarked' 을 대상으로 One-Hot encoding이 필요해 보여 이를 수행"
   ]
  },
  {
   "cell_type": "code",
   "execution_count": 21,
   "id": "c48f7b38",
   "metadata": {},
   "outputs": [],
   "source": [
    "from sklearn.preprocessing import LabelEncoder"
   ]
  },
  {
   "cell_type": "code",
   "execution_count": null,
   "id": "5c8b7934",
   "metadata": {},
   "outputs": [],
   "source": []
  },
  {
   "cell_type": "markdown",
   "id": "586d75c5",
   "metadata": {},
   "source": [
    "2-1) train data에 결측치(NULL)가 있는 feature들이 있습니다. 이 값들을 어떻게 처리할 것인지 아이디어를 제시하고 실제로 구현하세요.\n",
    "<br>  -> 'Age' column에선 다수의, 'Embarked' column에선 극소수의 샘플에 대해 NULL값이 있음. \n",
    "<br>  a) 'Embarked'는 (눈으로 세어보니 2개) 워낙 갯수도 적고, 생존 여부에 영향을 주는 attribute이면서도 평균이나 중간값 등으로 처리하기 애매하므로 그냥 해당 sample은 drop. \n",
    "<br>  b) 'Age'에 column에서 나오는 NULL 갯수는 무시할 수 없을 만큼 많은데, 그렇다고 싹다 평균이나 중간값으로 대체하는 것은 실제 데이터(기록되진 않았지만 그 사람의 실제 나이)와는 괴리가 너무 커질 것으로 예상. 따라서 NULL값은 최빈값으로 취급하고, 'Parch가 0인데 Pclass가 1이면 나이를 중장년층으로 예상' 같은 규칙을 추가해 처리하고자 함\n"
   ]
  },
  {
   "cell_type": "code",
   "execution_count": null,
   "id": "a9bf5847",
   "metadata": {},
   "outputs": [],
   "source": []
  },
  {
   "cell_type": "code",
   "execution_count": null,
   "id": "d02009c6",
   "metadata": {},
   "outputs": [],
   "source": []
  },
  {
   "cell_type": "markdown",
   "id": "51530155",
   "metadata": {},
   "source": [
    "    2-4) 그 외 진행한 전처리 과정이 있다면 서술하세요\n",
    "    -> 범주에 따른 분류가 가능해야 하므로, 원래는 연속적 성질을 가진 feature인 'Age'와 'Fare'를 일정 구간 별로 나누어 범주화시켰음"
   ]
  },
  {
   "cell_type": "code",
   "execution_count": null,
   "id": "bdd1b137",
   "metadata": {},
   "outputs": [],
   "source": []
  },
  {
   "cell_type": "code",
   "execution_count": null,
   "id": "8e11f107",
   "metadata": {},
   "outputs": [],
   "source": []
  },
  {
   "cell_type": "markdown",
   "id": "ee91a672",
   "metadata": {},
   "source": [
    "3. Machine Learning Models: scikit-learn을 이용해 후술할 세 가지 machine learning model를\n",
    "구현하고 성능을 평가하세요."
   ]
  },
  {
   "cell_type": "markdown",
   "id": "355b02c3",
   "metadata": {},
   "source": [
    "3-1 K-Nearest Neighbors(KNN): K(이웃)의 개수를 [1~5]까지 변화시키면서 test data에서 결과가\n",
    "어떻게 변하는지 분석하세요"
   ]
  },
  {
   "cell_type": "code",
   "execution_count": null,
   "id": "1d917833",
   "metadata": {},
   "outputs": [],
   "source": []
  },
  {
   "cell_type": "code",
   "execution_count": null,
   "id": "fb4c3747",
   "metadata": {},
   "outputs": [],
   "source": []
  },
  {
   "cell_type": "code",
   "execution_count": null,
   "id": "f4af21c4",
   "metadata": {},
   "outputs": [],
   "source": []
  },
  {
   "cell_type": "code",
   "execution_count": null,
   "id": "f152b75c",
   "metadata": {},
   "outputs": [],
   "source": []
  },
  {
   "cell_type": "code",
   "execution_count": null,
   "id": "8d5b137a",
   "metadata": {},
   "outputs": [],
   "source": []
  },
  {
   "cell_type": "code",
   "execution_count": null,
   "id": "f22f2a40",
   "metadata": {},
   "outputs": [],
   "source": []
  },
  {
   "cell_type": "markdown",
   "id": "b068bd1a",
   "metadata": {},
   "source": [
    "4. Evaluation Methods: 각각 모델에 따른 성능을 Accuracy, F1-Score을 통해 나타내세요.\n"
   ]
  },
  {
   "cell_type": "code",
   "execution_count": null,
   "id": "e95b046e",
   "metadata": {},
   "outputs": [],
   "source": []
  },
  {
   "cell_type": "markdown",
   "id": "c88e1582",
   "metadata": {},
   "source": [
    "3-2 Logistic Regression: Iteration 횟수를 [0~100] 범위에서 20씩 변화시키면서 test data에서 결\n",
    "과가 어떻게 변하는지 분석하세요. Iteration 횟수를 100으로 고정한 후 regularization\n",
    "term(scikit-learn에서는 C)를 [0~5]의 범위에서 1씩 변화시키면서 test data에서 결과가 어떻게\n",
    "변하는지 분석하세요."
   ]
  },
  {
   "cell_type": "code",
   "execution_count": null,
   "id": "75fb8524",
   "metadata": {},
   "outputs": [],
   "source": []
  },
  {
   "cell_type": "code",
   "execution_count": null,
   "id": "b77e7f2a",
   "metadata": {},
   "outputs": [],
   "source": []
  },
  {
   "cell_type": "code",
   "execution_count": null,
   "id": "190bf76e",
   "metadata": {},
   "outputs": [],
   "source": []
  },
  {
   "cell_type": "markdown",
   "id": "3581f5b3",
   "metadata": {},
   "source": [
    "4. Evaluation Methods: 각각 모델에 따른 성능을 Accuracy, F1-Score을 통해 나타내세요."
   ]
  },
  {
   "cell_type": "code",
   "execution_count": null,
   "id": "e88391fd",
   "metadata": {},
   "outputs": [],
   "source": []
  },
  {
   "cell_type": "markdown",
   "id": "61e1cb32",
   "metadata": {},
   "source": [
    "3-3 Decision Tree: Information Gain을 통해 test data에서 결과가 어떻게 나오는지 분석하세요.\n",
    "또한 적절한 tool을 이용하여 각 depth에서의 조건과 gain값을 알 수 있도록 tree를 시각화\n",
    "하세요."
   ]
  },
  {
   "cell_type": "code",
   "execution_count": null,
   "id": "f754b834",
   "metadata": {},
   "outputs": [],
   "source": []
  },
  {
   "cell_type": "code",
   "execution_count": null,
   "id": "ef9ec987",
   "metadata": {},
   "outputs": [],
   "source": []
  },
  {
   "cell_type": "code",
   "execution_count": null,
   "id": "f53e1f39",
   "metadata": {},
   "outputs": [],
   "source": []
  },
  {
   "cell_type": "markdown",
   "id": "eb35c28d",
   "metadata": {},
   "source": [
    "4. Evaluation Methods: 각각 모델에 따른 성능을 Accuracy, F1-Score을 통해 나타내세요."
   ]
  },
  {
   "cell_type": "code",
   "execution_count": null,
   "id": "a9a3bc4b",
   "metadata": {},
   "outputs": [],
   "source": []
  },
  {
   "cell_type": "markdown",
   "id": "f1455e12",
   "metadata": {},
   "source": [
    "3-3-1 Bagging with Decision Tree: Decision Tree 기반으로 Bagging 기법을 이용하여 bag의\n",
    "수에 따라 test data에서 결과가 어떻게 변하는지 decision tree와 비교하여 분석하세요.\n",
    "Bag의 수는 [1~5]에서 1씩 변화시키세요"
   ]
  },
  {
   "cell_type": "code",
   "execution_count": null,
   "id": "84695ec1",
   "metadata": {},
   "outputs": [],
   "source": []
  },
  {
   "cell_type": "code",
   "execution_count": null,
   "id": "1f96015f",
   "metadata": {},
   "outputs": [],
   "source": []
  },
  {
   "cell_type": "code",
   "execution_count": null,
   "id": "b2d95496",
   "metadata": {},
   "outputs": [],
   "source": []
  },
  {
   "cell_type": "code",
   "execution_count": null,
   "id": "4171395d",
   "metadata": {},
   "outputs": [],
   "source": []
  },
  {
   "cell_type": "code",
   "execution_count": null,
   "id": "72a7f78b",
   "metadata": {},
   "outputs": [],
   "source": []
  },
  {
   "cell_type": "code",
   "execution_count": null,
   "id": "028deaaf",
   "metadata": {},
   "outputs": [],
   "source": []
  },
  {
   "cell_type": "code",
   "execution_count": null,
   "id": "bd8cdc52",
   "metadata": {},
   "outputs": [],
   "source": []
  },
  {
   "cell_type": "markdown",
   "id": "2374c57a",
   "metadata": {},
   "source": [
    "4. Evaluation Methods: 각각 모델에 따른 성능을 Accuracy, F1-Score을 통해 나타내세요."
   ]
  },
  {
   "cell_type": "code",
   "execution_count": null,
   "id": "427873ae",
   "metadata": {},
   "outputs": [],
   "source": []
  }
 ],
 "metadata": {
  "kernelspec": {
   "display_name": "Python 3",
   "language": "python",
   "name": "python3"
  },
  "language_info": {
   "codemirror_mode": {
    "name": "ipython",
    "version": 3
   },
   "file_extension": ".py",
   "mimetype": "text/x-python",
   "name": "python",
   "nbconvert_exporter": "python",
   "pygments_lexer": "ipython3",
   "version": "3.8.8"
  }
 },
 "nbformat": 4,
 "nbformat_minor": 5
}
